{
 "cells": [
  {
   "cell_type": "code",
   "execution_count": 1,
   "metadata": {},
   "outputs": [
    {
     "name": "stderr",
     "output_type": "stream",
     "text": [
      "c:\\Users\\SASWAT\\Documents\\NCERT-BOT\\.venv\\lib\\site-packages\\langchain_core\\_api\\deprecation.py:139: LangChainDeprecationWarning: The class `HuggingFaceEmbeddings` was deprecated in LangChain 0.2.2 and will be removed in 0.3.0. An updated version of the class exists in the langchain-huggingface package and should be used instead. To use it run `pip install -U langchain-huggingface` and import as `from langchain_huggingface import HuggingFaceEmbeddings`.\n",
      "  warn_deprecated(\n",
      "c:\\Users\\SASWAT\\Documents\\NCERT-BOT\\.venv\\lib\\site-packages\\sentence_transformers\\cross_encoder\\CrossEncoder.py:11: TqdmWarning: IProgress not found. Please update jupyter and ipywidgets. See https://ipywidgets.readthedocs.io/en/stable/user_install.html\n",
      "  from tqdm.autonotebook import tqdm, trange\n"
     ]
    }
   ],
   "source": [
    "import os\n",
    "\n",
    "from langchain.document_loaders import UnstructuredFileLoader\n",
    "from langchain_text_splitters import CharacterTextSplitter\n",
    "from langchain_community.embeddings import HuggingFaceEmbeddings,elasticsearch\n",
    "from langchain_chroma import Chroma\n",
    "from langchain_groq import ChatGroq\n",
    "from langchain.chains import RetrievalQA\n",
    "import os\n",
    "from langchain_community.document_loaders import PyPDFLoader\n",
    "\n",
    "from groq_api_key import groq_api_key\n",
    "os.environ[\"GROQ_API_KEY\"] = groq_api_key\n",
    "\n",
    "\n",
    "# Function to process all PDFs in a folder\n",
    "def load_and_split_pdfs(folder_path):\n",
    "    all_pages = []\n",
    "\n",
    "    # Iterate over all files in the folder\n",
    "    for filename in os.listdir(folder_path):\n",
    "        if filename.endswith('.pdf'):\n",
    "            file_path = os.path.join(folder_path, filename)\n",
    "            loader = PyPDFLoader(file_path)\n",
    "            pages = loader.load_and_split()\n",
    "            all_pages.extend(pages)\n",
    "    \n",
    "    return all_pages\n",
    "\n",
    "# Example usage\n",
    "folder_path = 'book_pdfs'\n",
    "all_pages = load_and_split_pdfs(folder_path)\n",
    "\n",
    "# splitting into text chunks\n",
    "text_splitter = CharacterTextSplitter(\n",
    "    chunk_size=2000,\n",
    "    chunk_overlap=400\n",
    ")\n",
    "\n",
    "texts = text_splitter.split_documents(all_pages)\n",
    "\n",
    "embeddings = HuggingFaceEmbeddings(model_name=\"all-MiniLM-L6-v2\")\n",
    "\n",
    "persist_directory = \"Flamingo_db\"\n",
    "\n",
    "vectordb = Chroma.from_documents(\n",
    "    documents=texts,\n",
    "    embedding=embeddings,\n",
    "    persist_directory=persist_directory\n",
    ")"
   ]
  },
  {
   "cell_type": "code",
   "execution_count": 2,
   "metadata": {},
   "outputs": [],
   "source": [
    "# retriever\n",
    "retriever = vectordb.as_retriever()\n",
    "\n",
    "# llm from groq\n",
    "llm = ChatGroq(\n",
    "    model=\"llama-3.1-70b-versatile\",\n",
    "    temperature=0.6\n",
    ")\n",
    "\n",
    "# create a qa chain\n",
    "qa_chain = RetrievalQA.from_chain_type(\n",
    "    llm=llm,\n",
    "    chain_type=\"stuff\",\n",
    "    retriever=retriever,\n",
    "    return_source_documents=True\n",
    ")"
   ]
  },
  {
   "cell_type": "code",
   "execution_count": 3,
   "metadata": {},
   "outputs": [
    {
     "name": "stdout",
     "output_type": "stream",
     "text": [
      "What doubts did Edla have about the peddler\n",
      "Edla thought, \"Either he has stolen something or else he has escaped from jail.\" She thought this as she saw the man's frightened expression and behavior.\n",
      "******************************\n",
      "Source Document: book_pdfs\\lefl104.pdf\n"
     ]
    }
   ],
   "source": [
    "# invoke the qa chain and get a response for user query\n",
    "query = \"What doubts did Edla have about the peddler\"\n",
    "response = qa_chain.invoke({\"query\": query})\n",
    "print(response['query'])\n",
    "print(response[\"result\"])\n",
    "print(\"*\"*30)\n",
    "print(\"Source Document:\", response[\"source_documents\"][0].metadata[\"source\"])"
   ]
  },
  {
   "cell_type": "code",
   "execution_count": 4,
   "metadata": {},
   "outputs": [
    {
     "name": "stdout",
     "output_type": "stream",
     "text": [
      "**Deep Water: A Journey of Overcoming Fear**\n",
      "\n",
      "The chapter \"Deep Water\" is an autobiographical account by William O. Douglas, a renowned American jurist and author. The narrative revolves around Douglas's childhood experience of nearly drowning in a swimming pool and his subsequent struggle to overcome the fear of water. The story is a poignant and introspective exploration of the human psyche, delving into the complexities of fear, courage, and personal growth.\n",
      "\n",
      "**The Inciting Incident**\n",
      "\n",
      "The story begins with Douglas recounting an incident from his childhood, when he was around ten or eleven years old. He had decided to learn how to swim, and the local YMCA pool in Yakima seemed like the perfect place to do so. However, his enthusiasm was short-lived, as he soon found himself struggling to stay afloat in the pool. Despite the presence of water wings, Douglas panicked and sank to the bottom of the pool. He recalls the sensation of being underwater, unable to breathe, and the feeling of his \"curtain of life\" falling.\n",
      "\n",
      "**The Birth of Fear**\n",
      "\n",
      "The near-drowning experience left an indelible mark on Douglas's psyche, instilling in him a deep-seated fear of water. He became terrified of the pool, and the mere thought of being in water would send shivers down his spine. This fear was not just about the physical act of drowning but also about the loss of control and the feeling of being helpless. Douglas's fear was so intense that it began to affect his daily life, making him avoid any situation that might involve water.\n",
      "\n",
      "**The Journey to Overcome Fear**\n",
      "\n",
      "As Douglas grew older, he realized that his fear of water was holding him back. He became determined to overcome this phobia and learn how to swim. With the help of an instructor, Douglas began to gradually build up his confidence in the water. The instructor's approach was gentle and encouraging, helping Douglas to confront his fear in a controlled environment. Douglas recalls the instructor's words, \"You're not going to sink, I've got you,\" which became a source of comfort and reassurance.\n",
      "\n",
      "**The Turning Point**\n",
      "\n",
      "The turning point in Douglas's journey came when he decided to take a bold step and swim across a lake. He chose a lake in New Hampshire, where he had spent many summers as a child. With a mix of excitement and trepidation, Douglas dove into the water and began to swim. As he reached the middle of the lake, he felt the old fear resurfacing, but this time, he was prepared. He laughed and told himself, \"Well, Mr. Terror, what do you think you can do to me?\" This moment marked a significant shift in Douglas's mindset, as he began to confront his fear head-on.\n",
      "\n",
      "**The Triumph**\n",
      "\n",
      "Douglas's journey to overcome his fear of water was not just about learning to swim; it was about confronting his inner demons and developing a sense of self-confidence. He recalls the feeling of triumph and elation when he finally swam across the lake and back. This experience had a profound impact on Douglas, teaching him that fear was not something to be feared but rather something to be faced and overcome.\n",
      "\n",
      "**The Larger Meaning**\n",
      "\n",
      "Douglas's story is not just a personal account of overcoming fear; it is also a reflection on the human condition. He draws a larger meaning from his experience, highlighting the importance of facing one's fears and developing courage. Douglas quotes Roosevelt's famous phrase, \"All we have to fear is fear itself,\" emphasizing the idea that fear is often the greatest obstacle to personal growth and development.\n",
      "\n",
      "**The Autobiographical Significance**\n",
      "\n",
      "The chapter \"Deep Water\" is significant not only because of its engaging narrative but also because of its autobiographical value. Douglas's story provides a unique insight into his life and personality, revealing his struggles and triumphs. The narrative is a testament to the power of human resilience and the importance of facing one's fears.\n",
      "\n",
      "**The Themes**\n",
      "\n",
      "The chapter explores several themes, including:\n",
      "\n",
      "1. **Fear and Courage**: The narrative highlights the complex relationship between fear and courage. Douglas's story shows that fear is a natural human emotion, but it is how we respond to it that matters.\n",
      "2. **Personal Growth**: The chapter emphasizes the importance of personal growth and development. Douglas's journey is a testament to the human capacity for change and self-improvement.\n",
      "3. **Resilience**: The narrative showcases Douglas's resilience and determination in the face of adversity. His story inspires readers to confront their own fears and challenges.\n",
      "\n",
      "**The Style**\n",
      "\n",
      "The chapter is written in a reflective and introspective style, with Douglas using the first-person narrative to recount his experiences. The narrative is engaging and accessible, making it easy for readers to connect with Douglas's story. The use of vivid imagery and descriptive language adds depth and texture to the narrative, drawing the reader into Douglas's world.\n",
      "\n",
      "**Conclusion**\n",
      "\n",
      "In conclusion, \"Deep Water\" is a powerful and inspiring narrative that explores the human experience of fear and courage. Douglas's story is a testament to the human capacity for growth and development, highlighting the importance of facing one's fears and developing self-confidence. The chapter is a must-read for anyone who has ever struggled with fear or self-doubt, offering a message of hope and inspiration that will resonate with readers long after they finish the chapter.\n",
      "Number of words of the response :854\n"
     ]
    }
   ],
   "source": [
    "from langchain.chains import create_retrieval_chain\n",
    "from langchain.chains.combine_documents import create_stuff_documents_chain\n",
    "from langchain_core.prompts import ChatPromptTemplate\n",
    "\n",
    "system_prompt = (\n",
    "    \"Use the given context to answer the question. \"\n",
    "    \"You are a highly knowledgeable NCERT assistant. \"\n",
    "    \"Give answer in more than 200 words\"\n",
    "    \"Your job is to provide accurate, detailed, and comprehensive answers based on the information retrieved from the NCERT textbooks. \"\n",
    "    \"Please consider the educational context, relevant facts, and concepts while crafting your response. \"\n",
    "    \"Make sure to explain the terms and concepts in simple language that a school student can understand. \"\n",
    "    \"If you don't know the answer, say you don't know. \"\n",
    "    \"Provide output in markdown format. \"\n",
    "    \"Context: {context}\"\n",
    ")\n",
    "\n",
    "prompt = ChatPromptTemplate.from_messages(\n",
    "    [\n",
    "        (\"system\", system_prompt),\n",
    "        (\"human\", \"{input}\"),\n",
    "    ]\n",
    ")\n",
    "\n",
    "persist_directory = \"Flamingo_db\"\n",
    "\n",
    "\n",
    "# embeddings = HuggingFaceEmbeddings()\n",
    "embeddings = HuggingFaceEmbeddings(model_name=\"all-MiniLM-L6-v2\")\n",
    "\n",
    "# load the chroma db\n",
    "vectordb = Chroma(\n",
    "    persist_directory=persist_directory,\n",
    "    embedding_function=embeddings\n",
    ")\n",
    "\n",
    "llm = ChatGroq(\n",
    "    model=\"llama-3.1-70b-versatile\",\n",
    "    temperature=0\n",
    ")\n",
    "\n",
    "# retriever\n",
    "retriever = vectordb.as_retriever()\n",
    "question_answer_chain = create_stuff_documents_chain(llm, prompt)\n",
    "chain = create_retrieval_chain(retriever, question_answer_chain)\n",
    "\n",
    "human_query=\"Give me the summary of the chapter Deep Water in not less than 1000 words\"\n",
    "response=chain.invoke({\"input\": human_query})\n",
    "print(response['answer'])\n",
    "print(f\"Number of words of the response :{response['answer'].count(' ')-1}\")"
   ]
  },
  {
   "cell_type": "code",
   "execution_count": null,
   "metadata": {},
   "outputs": [],
   "source": [
    "human_query=\"Give me the summary of the chapter Deep Water in not less than 1000 words\"\n",
    "response=chain.invoke({\"input\": human_query})\n",
    "print(response['answer'])\n",
    "print(f\"Number of words of the response :{response['answer'].count(' ')-1}\")"
   ]
  },
  {
   "cell_type": "markdown",
   "metadata": {},
   "source": [
    "**Deep Water: A Journey of Overcoming Fear**\n",
    "\n",
    "The chapter \"Deep Water\" is an autobiographical account by William O. Douglas, a renowned American jurist and author. The narrative revolves around Douglas's childhood experience of nearly drowning in a swimming pool and his subsequent struggle to overcome the fear of water. Through this personal anecdote, Douglas explores the psychological aspects of fear, its impact on human behavior, and the importance of confronting and conquering it.\n",
    "\n",
    "**The Inciting Incident**\n",
    "\n",
    "The story begins with Douglas recounting an incident from his childhood when he was around ten or eleven years old. He had decided to learn how to swim and joined the YMCA in Yakima, where he lived. The YMCA pool was considered safe, with a gradual drop in depth from two to nine feet. Douglas obtained a pair of water wings and began his swimming lessons. However, during one of his early attempts, he experienced a terrifying moment that would leave a lasting impact on his life.\n",
    "\n",
    "**The Traumatic Experience**\n",
    "\n",
    "As Douglas was practicing his swimming strokes, he suddenly found himself submerged underwater, unable to breathe. He panicked and flailed at the surface, but his water wings were of little help. The experience was so traumatic that Douglas thought he was going to die. He recalls feeling a sense of resignation, as if he had accepted his fate. This near-death experience left an indelible mark on Douglas's psyche, instilling in him a deep-seated fear of water.\n",
    "\n",
    "**The Fear Takes Hold**\n",
    "\n",
    "The fear of water became an all-consuming force in Douglas's life. He would avoid any situation that involved water, including swimming, boating, or even wading in shallow waters. This phobia not only limited his recreational activities but also affected his self-esteem. Douglas felt embarrassed and ashamed of his fear, which he perceived as a sign of weakness. He became withdrawn and isolated, unable to share his feelings with anyone.\n",
    "\n",
    "**The Turning Point**\n",
    "\n",
    "Years later, when Douglas was in his mid-twenties, he decided to confront his fear head-on. He realized that his fear was not only limiting his personal growth but also affecting his relationships with others. Douglas began to take small steps towards overcoming his fear. He started by wading in shallow waters, gradually increasing the depth and duration of his exposure. He also practiced swimming strokes on land, building up his confidence and strength.\n",
    "\n",
    "**The Triumph**\n",
    "\n",
    "Douglas's determination and perseverance eventually paid off. He learned to swim and even began to enjoy the experience. He recalls a moment when he swam two miles across a lake, feeling a sense of exhilaration and accomplishment. This triumph marked a significant turning point in Douglas's life, as he had finally overcome his fear of water.\n",
    "\n",
    "**The Larger Meaning**\n",
    "\n",
    "Douglas's experience of overcoming his fear of water has a larger significance that extends beyond his personal life. He reflects on the nature of fear and its impact on human behavior. Douglas realizes that fear is a natural response to perceived threats, but it can also become a debilitating force that limits our potential. He quotes Franklin D. Roosevelt's famous phrase, \"All we have to fear is fear itself,\" highlighting the importance of confronting and conquering fear.\n",
    "\n",
    "**The Autobiographical Significance**\n",
    "\n",
    "The chapter \"Deep Water\" is not only a personal account of Douglas's experience but also an exploration of the human psyche. Through his narrative, Douglas provides insight into the complexities of human behavior, revealing the ways in which fear can shape our lives. The autobiographical aspect of the chapter adds a layer of authenticity, making the story more relatable and engaging.\n",
    "\n",
    "**The Themes**\n",
    "\n",
    "The chapter \"Deep Water\" explores several themes that are relevant to human experience. Some of the major themes include:\n",
    "\n",
    "1. **Fear and Anxiety**: The chapter highlights the debilitating effects of fear and anxiety on human behavior. Douglas's experience shows how fear can limit our potential and affect our relationships with others.\n",
    "2. **Perseverance and Determination**: Douglas's story demonstrates the importance of perseverance and determination in overcoming fear and achieving personal growth.\n",
    "3. **Self-Discovery**: The chapter is a journey of self-discovery, as Douglas reflects on his experiences and gains insight into his own psyche.\n",
    "4. **Personal Growth**: The narrative shows how Douglas's experience of overcoming his fear of water leads to personal growth and a greater sense of confidence and self-esteem.\n",
    "\n",
    "**The Style**\n",
    "\n",
    "The chapter \"Deep Water\" is written in a reflective and introspective style, with Douglas narrating his experiences in the first person. The use of vivid imagery and descriptive language adds a layer of depth and emotion to the narrative, making the story more engaging and relatable. The chapter also includes quotes and references to other authors, adding a layer of complexity and depth to the narrative.\n",
    "\n",
    "**The Significance**\n",
    "\n",
    "The chapter \"Deep Water\" is significant not only for its autobiographical value but also for its exploration of the human psyche. The narrative provides insight into the complexities of human behavior, highlighting the ways in which fear can shape our lives. The chapter also demonstrates the importance of perseverance and determination in overcoming fear and achieving personal growth. As a literary work, \"Deep Water\" is a powerful and engaging narrative that explores the human condition in a way that is both relatable and thought-provoking.\n",
    "Number of words of the response :842"
   ]
  },
  {
   "cell_type": "code",
   "execution_count": 30,
   "metadata": {},
   "outputs": [
    {
     "name": "stdout",
     "output_type": "stream",
     "text": [
      "According to the text, Edla had the following doubts about the peddler:\n",
      "\n",
      "\"Either he has stolen something or else he has escaped from jail\", she thought.\n",
      "\n",
      "This suggests that Edla suspected the peddler of being a thief or a fugitive.\n",
      "******************************\n",
      "Source Document: book_pdfs\\lefl104.pdf\n"
     ]
    }
   ],
   "source": [
    "# response = qa_chain.invoke({\"query\": query})\n",
    "# print(response[\"result\"])\n",
    "# print(\"*\"*30)\n",
    "# print(\"Source Document:\", response[\"source_documents\"][0].metadata[\"source\"])"
   ]
  },
  {
   "cell_type": "code",
   "execution_count": 5,
   "metadata": {},
   "outputs": [
    {
     "data": {
      "text/plain": [
       "{'input': 'Give me the summary of the chapter Deep Water in not less than 1000 words',\n",
       " 'context': [Document(metadata={'page': 6, 'source': 'book_pdfs\\\\lefl103.pdf'}, page_content='Deep Water /29\\nWentworth in New Hampshir e, dived of f a dock at T riggs\\nIsland, and swam two miles across the lake to Stamp Act\\nIsland. I swam the crawl, breast stroke, side stroke, and\\nback stroke. Only once did the terror return. When I was\\nin the middle of the lake, I put my face under and saw\\nnothing but bottomless water . The old sensation r eturned\\nin miniatur e. I laughed and said, “W ell, Mr T error, what do\\nyou think you can do to me?” It fled and I swam on.\\nYet I had r esidual doubts. At my first opportunity I\\nhurried west, went up the T ieton to Conrad Meadows, up\\nthe Conrad Cr eek T rail to Meade Glacier , and camped in\\nthe high meadow by the side of W arm Lake. The next\\nmorning I stripped, dived into the lake, and swam across\\nto the other shore and back — just as Doug Corpron used\\nto do. I shouted with joy, and Gilbert Peak returned the\\necho. I had conquer ed my fear of water .\\nThe experience had a deep meaning for me, as only\\nthose who have known stark terror and conquered it can\\nappreciate. In death there is peace. There is terror only in\\nthe fear of death, as Roosevelt knew when he said, “All we\\nhave to fear is fear itself.” Because\\nI had experienced both the\\nsensation of dying and the terror\\nthat fear of it can produce, the\\nwill to live somehow grew in\\nintensity.\\nAt last I felt released — free\\nto walk the trails and climb the\\npeaks and to brush aside fear .\\nUnderstanding  the text\\n1.How does Douglas make clear to the reader the sense of panic\\nthat gripped him as he almost drowned? Describe the details\\nthat have made the description vivid.\\n2.How did Douglas overcome his fear of water?\\n3.Why does Douglas as an adult recount a childhood experience\\nof terror and his conquering of it? What larger meaning does he\\ndraw from this experience?\\n1.Why was Douglas determined to\\nget over his fear of water?\\n2.How did the instructor “build a\\nswimmer” out of Douglas?\\n3.How did Douglas make sure that\\nhe conquered the old terror?\\nReprint 2024-25'),\n",
       "  Document(metadata={'page': 0, 'source': 'book_pdfs\\\\lefl101.pdf'}, page_content='The Last Lesson\\nAlphonse Daudet\\nLost Spring\\nAnees Jung\\nDeep Water\\nWilliam  Douglas\\nThe Rattrap\\nSelma Lagerlof\\nIndigo\\nLouis Fischer\\nPoets and Pancakes\\nAsokamitran\\nThe Interview\\nChristopher Silvester\\nUmberto Eco\\nGoing Places\\nA. R. Barton\\nProse..\\nReprint 2024-25'),\n",
       "  Document(metadata={'page': 0, 'source': 'book_pdfs\\\\lefl103.pdf'}, page_content='Deep Water /23\\nDeep Water\\nAbout the author\\nWilliam Douglas  (1898-1980) was born in Maine,\\nMinnesota. After graduating with a Bachelors of Arts\\nin English and Economics, he spent two years teaching\\nhigh school in Y akima. However , he got tir ed of this and\\ndecided to pursue a legal car eer. He met Franklin D.\\nRoosevelt at Y ale and became an adviser and friend to\\nthe President. Douglas was a leading advocate of\\nindividual rights. He retired in 1975 with a term lasting\\nthirty-six years and remains the longest-serving Justice\\nin the history of the court. The following excerpt is taken\\nfrom Of Men and Mountains  by William O. Douglas. It\\nreveals how as a young boy William Douglas nearly\\ndrowned in a swimming pool. In this essay he talks\\nabout his fear of water and ther eafter , how he finally\\novercame it. Notice how the autobiographical part of\\nthe selection is used to support his discussion of fear .\\nNotice these words and expressions in the text.\\nInfer their meaning from the context.\\n/circle5treacherous /circle5misadventure\\n/circle5subdued my pride /circle5bob to the surface like a cork\\n/circle5flailed at the surface /circle5curtain of life fell\\n/circle5fishing for landlocked salmon /circle5back and forth across the pool\\nIt had happened when I was ten or eleven years old. I had\\ndecided to lear n to swim. Ther e was a pool at the Y .M.C.A.\\nin Yakima that of fered exactly the opportunity. The Y akima\\nRiver was treacherous. Mother continually warned against\\nit, and kept fresh in my mind the details of each drowning\\nin the river . But the Y .M.C.A. pool was safe. It was only\\ntwo or three feet deep at the shallow end; and while it was\\nnine feet deep at the other , the dr op was gradual. I got a\\npair of water wings and went to the pool. I hated to walk3\\nReprint 2024-25'),\n",
       "  Document(metadata={'page': 8, 'source': 'book_pdfs\\\\lefl103.pdf'}, page_content='Deep Water /31\\nABOUT  THE UNIT\\nTHEME\\nA real-life personal account of experiencing fear and the steps\\ntaken to overcome it.\\nSUB-THEME\\nPsychological analysis of fear .\\nCOMPREHENSION\\n•Understanding another person’s experience.\\n•Relating subjectively to the discussion on fear .\\nTALKING  ABOUT  THE TEXT\\n•Sharing personal experiences.\\n•Sharing accounts of acts of courage.\\nTHINKING  ABOUT  LANGUAGE\\nFocus on first person narrative style.\\nWRITING\\n•First person narration of personal experience.\\n•Letter -writing on personal lear ning achievement.\\nTHINGS TO DO\\nGathering information on water sports.\\nReprint 2024-25')],\n",
       " 'answer': '**Deep Water: A Journey of Overcoming Fear**\\n\\nThe chapter \"Deep Water\" is an autobiographical account by William O. Douglas, a renowned American jurist and author. The narrative revolves around Douglas\\'s childhood experience of nearly drowning in a swimming pool and his subsequent struggle to overcome the fear of water. The story is a poignant and introspective exploration of the human psyche, delving into the complexities of fear, courage, and personal growth.\\n\\n**The Inciting Incident**\\n\\nThe story begins with Douglas recounting an incident from his childhood, when he was around ten or eleven years old. He had decided to learn how to swim, and the local YMCA pool in Yakima seemed like the perfect place to do so. However, his enthusiasm was short-lived, as he soon found himself struggling to stay afloat in the pool. Despite the presence of water wings, Douglas panicked and sank to the bottom of the pool. He recalls the sensation of being underwater, unable to breathe, and the feeling of his \"curtain of life\" falling.\\n\\n**The Birth of Fear**\\n\\nThe near-drowning experience left an indelible mark on Douglas\\'s psyche, instilling in him a deep-seated fear of water. He became terrified of the pool, and the mere thought of being in water would send shivers down his spine. This fear was not just about the physical act of drowning but also about the loss of control and the feeling of being helpless. Douglas\\'s fear was so intense that it began to affect his daily life, making him avoid any situation that might involve water.\\n\\n**The Journey to Overcome Fear**\\n\\nAs Douglas grew older, he realized that his fear of water was holding him back. He became determined to overcome this phobia and learn how to swim. With the help of an instructor, Douglas began to gradually build up his confidence in the water. The instructor\\'s approach was gentle and encouraging, helping Douglas to confront his fear in a controlled environment. Douglas recalls the instructor\\'s words, \"You\\'re not going to sink, I\\'ve got you,\" which became a source of comfort and reassurance.\\n\\n**The Turning Point**\\n\\nThe turning point in Douglas\\'s journey came when he decided to take a bold step and swim across a lake. He chose a lake in New Hampshire, where he had spent many summers as a child. With a mix of excitement and trepidation, Douglas dove into the water and began to swim. As he reached the middle of the lake, he felt the old fear resurfacing, but this time, he was prepared. He laughed and told himself, \"Well, Mr. Terror, what do you think you can do to me?\" This moment marked a significant shift in Douglas\\'s mindset, as he began to confront his fear head-on.\\n\\n**The Triumph**\\n\\nDouglas\\'s journey to overcome his fear of water was not just about learning to swim; it was about confronting his inner demons and developing a sense of self-confidence. He recalls the feeling of triumph and elation when he finally swam across the lake and back. This experience had a profound impact on Douglas, teaching him that fear was not something to be feared but rather something to be faced and overcome.\\n\\n**The Larger Meaning**\\n\\nDouglas\\'s story is not just a personal account of overcoming fear; it is also a reflection on the human condition. He draws a larger meaning from his experience, highlighting the importance of facing one\\'s fears and developing courage. Douglas quotes Roosevelt\\'s famous phrase, \"All we have to fear is fear itself,\" emphasizing the idea that fear is often the greatest obstacle to personal growth and development.\\n\\n**The Autobiographical Significance**\\n\\nThe chapter \"Deep Water\" is significant not only because of its engaging narrative but also because of its autobiographical value. Douglas\\'s story provides a unique insight into his life and personality, revealing his struggles and triumphs. The narrative is a testament to the power of human resilience and the importance of facing one\\'s fears.\\n\\n**The Themes**\\n\\nThe chapter explores several themes, including:\\n\\n1. **Fear and Courage**: The narrative highlights the complex relationship between fear and courage. Douglas\\'s story shows that fear is a natural human emotion, but it is how we respond to it that matters.\\n2. **Personal Growth**: The chapter emphasizes the importance of personal growth and development. Douglas\\'s journey is a testament to the human capacity for change and self-improvement.\\n3. **Resilience**: The narrative showcases Douglas\\'s resilience and determination in the face of adversity. His story inspires readers to confront their own fears and challenges.\\n\\n**The Style**\\n\\nThe chapter is written in a reflective and introspective style, with Douglas using the first-person narrative to recount his experiences. The narrative is engaging and accessible, making it easy for readers to connect with Douglas\\'s story. The use of vivid imagery and descriptive language adds depth and texture to the narrative, drawing the reader into Douglas\\'s world.\\n\\n**Conclusion**\\n\\nIn conclusion, \"Deep Water\" is a powerful and inspiring narrative that explores the human experience of fear and courage. Douglas\\'s story is a testament to the human capacity for growth and development, highlighting the importance of facing one\\'s fears and developing self-confidence. The chapter is a must-read for anyone who has ever struggled with fear or self-doubt, offering a message of hope and inspiration that will resonate with readers long after they finish the chapter.'}"
      ]
     },
     "execution_count": 5,
     "metadata": {},
     "output_type": "execute_result"
    }
   ],
   "source": [
    "response"
   ]
  },
  {
   "cell_type": "code",
   "execution_count": null,
   "metadata": {},
   "outputs": [],
   "source": []
  }
 ],
 "metadata": {
  "kernelspec": {
   "display_name": "Python 3",
   "language": "python",
   "name": "python3"
  },
  "language_info": {
   "codemirror_mode": {
    "name": "ipython",
    "version": 3
   },
   "file_extension": ".py",
   "mimetype": "text/x-python",
   "name": "python",
   "nbconvert_exporter": "python",
   "pygments_lexer": "ipython3",
   "version": "3.10.4"
  }
 },
 "nbformat": 4,
 "nbformat_minor": 2
}
